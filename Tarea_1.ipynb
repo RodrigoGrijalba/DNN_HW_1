{
  "nbformat": 4,
  "nbformat_minor": 0,
  "metadata": {
    "colab": {
      "name": "Tarea_1.ipynb",
      "provenance": [],
      "collapsed_sections": []
    },
    "kernelspec": {
      "name": "python3",
      "display_name": "Python 3"
    },
    "language_info": {
      "name": "python"
    }
  },
  "cells": [
    {
      "cell_type": "code",
      "execution_count": 1,
      "metadata": {
        "id": "6AdVJxJ-4u_u",
        "colab": {
          "base_uri": "https://localhost:8080/"
        },
        "outputId": "e6246444-6fd0-4314-a8d9-64a0f3e466fd"
      },
      "outputs": [
        {
          "output_type": "stream",
          "name": "stdout",
          "text": [
            "Mounted at /content/drive\n"
          ]
        }
      ],
      "source": [
        "from google.colab import drive\n",
        "drive.mount('/content/drive')"
      ]
    },
    {
      "cell_type": "code",
      "source": [
        "%cd drive/MyDrive/Clase_3"
      ],
      "metadata": {
        "id": "83_oN-Io8HzB",
        "colab": {
          "base_uri": "https://localhost:8080/"
        },
        "outputId": "6b96caf0-b77a-464e-9e49-033b44f30eee"
      },
      "execution_count": 2,
      "outputs": [
        {
          "output_type": "stream",
          "name": "stdout",
          "text": [
            "/content/drive/MyDrive/Clase_3\n"
          ]
        }
      ]
    },
    {
      "cell_type": "code",
      "source": [
        "import tensorflow as tf\n",
        "from tensorflow import keras\n",
        "from tensorflow.keras.datasets import fashion_mnist\n",
        "from tensorflow.keras.preprocessing.image import ImageDataGenerator\n",
        "from tensorflow.keras.models import Sequential, Model\n",
        "from tensorflow.keras.layers import Dense, Flatten, Conv2D, MaxPooling2D, Input\n",
        "from tensorflow.keras.layers import BatchNormalization, Dropout\n",
        "from tensorflow.keras.optimizers import Adam, SGD, RMSprop, Adagrad\n",
        "from tensorflow.keras.utils import plot_model, to_categorical\n",
        "\n",
        "from keras.callbacks import ModelCheckpoint, EarlyStopping\n",
        "\n",
        "import matplotlib.pyplot as plt\n",
        "import numpy as np\n",
        "\n",
        "from sklearn.utils import shuffle"
      ],
      "metadata": {
        "id": "i_x0AMwM-b2B"
      },
      "execution_count": 3,
      "outputs": []
    },
    {
      "cell_type": "code",
      "source": [
        "(x_train, y_train), (x_test, y_test) = fashion_mnist.load_data()\n",
        "\n",
        "y_train = to_categorical(y_train)\n",
        "y_test = to_categorical(y_test)\n",
        "\n",
        "# take 10% as validation set\n",
        "n_val = int(0.1*len(x_train))\n",
        "\n",
        "x_val = x_train[:n_val]\n",
        "x_train = x_train[n_val:]\n",
        "\n",
        "y_val = y_train[:n_val]\n",
        "y_train = y_train[n_val:]\n",
        "\n",
        "print(\"Training: Data ({}), Labels ({})\".format(x_train.shape, y_train.shape))\n",
        "print(\"Validation: Data ({}), Labels ({})\".format(x_val.shape, y_val.shape))\n",
        "print(\"Testing: Data ({}), Labels ({})\".format(x_test.shape, y_test.shape))"
      ],
      "metadata": {
        "colab": {
          "base_uri": "https://localhost:8080/"
        },
        "id": "U_V08q6W-su7",
        "outputId": "78db35a2-8c82-4d41-e898-2b870897a00d"
      },
      "execution_count": 4,
      "outputs": [
        {
          "output_type": "stream",
          "name": "stdout",
          "text": [
            "Downloading data from https://storage.googleapis.com/tensorflow/tf-keras-datasets/train-labels-idx1-ubyte.gz\n",
            "32768/29515 [=================================] - 0s 0us/step\n",
            "40960/29515 [=========================================] - 0s 0us/step\n",
            "Downloading data from https://storage.googleapis.com/tensorflow/tf-keras-datasets/train-images-idx3-ubyte.gz\n",
            "26427392/26421880 [==============================] - 0s 0us/step\n",
            "26435584/26421880 [==============================] - 0s 0us/step\n",
            "Downloading data from https://storage.googleapis.com/tensorflow/tf-keras-datasets/t10k-labels-idx1-ubyte.gz\n",
            "16384/5148 [===============================================================================================] - 0s 0us/step\n",
            "Downloading data from https://storage.googleapis.com/tensorflow/tf-keras-datasets/t10k-images-idx3-ubyte.gz\n",
            "4423680/4422102 [==============================] - 0s 0us/step\n",
            "4431872/4422102 [==============================] - 0s 0us/step\n",
            "Training: Data ((54000, 28, 28)), Labels ((54000, 10))\n",
            "Validation: Data ((6000, 28, 28)), Labels ((6000, 10))\n",
            "Testing: Data ((10000, 28, 28)), Labels ((10000, 10))\n"
          ]
        }
      ]
    },
    {
      "cell_type": "code",
      "source": [
        "# (#,28,28) => (#,28,28,1)\n",
        "# uint8 => float\n",
        "# [0,255] => [0,1]\n",
        "x_train = np.expand_dims(x_train, axis=-1).astype(\"float32\")/255.0\n",
        "x_val = np.expand_dims(x_val, axis=-1).astype(\"float32\")/255.0\n",
        "x_test = np.expand_dims(x_test, axis=-1).astype(\"float32\")/255.0"
      ],
      "metadata": {
        "id": "g5HuCAOc-wpg"
      },
      "execution_count": 5,
      "outputs": []
    },
    {
      "cell_type": "code",
      "source": [
        "name_labels = ['T-shirt/top', \n",
        "               'Trouser', \n",
        "               'Pullover', \n",
        "               'Dress', \n",
        "               'Coat', \n",
        "               'Sandal', \n",
        "               'Shirt', \n",
        "               'Sneaker', \n",
        "               'Bag', \n",
        "               'Ankle boot']\n",
        "\n",
        "n_classes = len(name_labels)"
      ],
      "metadata": {
        "id": "hfShWLCW--S3"
      },
      "execution_count": 6,
      "outputs": []
    },
    {
      "cell_type": "code",
      "source": [
        "batch_size = 64\n",
        "# Generador para Entrenamiento, con flips horizontal y vertical\n",
        "gen_train = ImageDataGenerator(horizontal_flip=True,\n",
        "                               vertical_flip=True)\n",
        "# Generador para Validación\n",
        "gen_val = ImageDataGenerator()\n",
        "\n",
        "data_gen_train = gen_train.flow(x_train, y_train, batch_size=batch_size)\n",
        "data_gen_val = gen_val.flow(x_val, y_val, batch_size=batch_size)"
      ],
      "metadata": {
        "id": "jhv2CZSH_BQw"
      },
      "execution_count": 7,
      "outputs": []
    },
    {
      "cell_type": "code",
      "source": [
        "x_temp, y_tem = data_gen_train.next()\n",
        "print(x_temp.shape, y_tem.shape)"
      ],
      "metadata": {
        "colab": {
          "base_uri": "https://localhost:8080/"
        },
        "id": "14gb9RMW_pO2",
        "outputId": "0d8a4a9a-5e7e-40de-bb39-69a96e4add99"
      },
      "execution_count": 8,
      "outputs": [
        {
          "output_type": "stream",
          "name": "stdout",
          "text": [
            "(64, 28, 28, 1) (64, 10)\n"
          ]
        }
      ]
    },
    {
      "cell_type": "code",
      "source": [
        "# Using Functional API\n",
        "def get_model_funct(filters, \n",
        "                    n_classes, \n",
        "                    k=3, \n",
        "                    name=\"my_model\", \n",
        "                    padding=\"same\", \n",
        "                    batch_norm=False, \n",
        "                    dropout=None):\n",
        "    input_layer = Input(shape=(28,28,1))\n",
        "    x = Conv2D(filters[0], (k,k), activation=\"relu\", padding=padding)(input_layer)\n",
        "    if batch_norm: x = BatchNormalization()(x)\n",
        "    x = MaxPooling2D(2,2)(x)\n",
        "    if dropout is not None: x = Dropout(dropout)(x)\n",
        "    \n",
        "    for n in filters[1:]:\n",
        "        x = Conv2D(n, (k,k), activation=\"relu\", padding=padding)(x)\n",
        "        if batch_norm: x = BatchNormalization()(x)\n",
        "        x = MaxPooling2D(2,2)(x)\n",
        "        if dropout is not None: x = Dropout(dropout)(x)\n",
        "\n",
        "    x = Flatten()(x)\n",
        "    x = Dense(100, activation=\"relu\")(x)\n",
        "    output_layer = Dense(n_classes, activation=\"softmax\")(x)\n",
        "    \n",
        "    model = Model(inputs=input_layer, outputs=output_layer, name=name)\n",
        "\n",
        "    model.compile(optimizer=Adam(learning_rate=0.001),\n",
        "                  loss=\"categorical_crossentropy\",\n",
        "                  metrics=['accuracy']\n",
        "                  )\n",
        "    return model"
      ],
      "metadata": {
        "id": "dnfdUsia_rsY"
      },
      "execution_count": 9,
      "outputs": []
    },
    {
      "cell_type": "code",
      "source": [
        ""
      ],
      "metadata": {
        "id": "6umdpbGB_41o"
      },
      "execution_count": null,
      "outputs": []
    }
  ]
}